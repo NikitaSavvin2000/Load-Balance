{
 "cells": [
  {
   "cell_type": "code",
   "execution_count": 20,
   "metadata": {},
   "outputs": [
    {
     "name": "stdout",
     "output_type": "stream",
     "text": [
      "   variable  is_italian_holiday  is_weekend  hour  day_of_week  month  \\\n",
      "0  0.988495                True       False     0            4      1   \n",
      "1 -1.231282                True       False     1            4      1   \n",
      "2  0.317162                True       False     2            4      1   \n",
      "3 -0.501072                True       False     3            4      1   \n",
      "4 -0.458985                True       False     4            4      1   \n",
      "\n",
      "   hour_sin  hour_cos  day_of_week_sin  day_of_week_cos  month_sin  month_cos  \n",
      "0  0.000000  1.000000        -0.433884        -0.900969        0.5   0.866025  \n",
      "1  0.258819  0.965926        -0.433884        -0.900969        0.5   0.866025  \n",
      "2  0.500000  0.866025        -0.433884        -0.900969        0.5   0.866025  \n",
      "3  0.707107  0.707107        -0.433884        -0.900969        0.5   0.866025  \n",
      "4  0.866025  0.500000        -0.433884        -0.900969        0.5   0.866025  \n"
     ]
    }
   ],
   "source": [
    "# Код, который вы представили, создает календарные признаки на основе столбца \"datetime\". Он уже хорошо начинает учитывать календарные данные, но давайте добавим некоторые дополнительные признаки и сделаем некоторые улучшения:\n",
    "# Праздники и выходные дни: Для учета праздников и выходных дней в Италии вы можете иметь дополнительный столбец, указывающий, является ли текущая дата праздником или выходным днем.\n",
    "\n",
    "# Лаги: Добавим лаги для переменной \"variable\", чтобы модель могла учитывать предыдущие значения признака.\n",
    "\n",
    "# Удаление лишних столбцов: После создания всех необходимых признаков уберем столбцы, которые больше не нужны.\n",
    "\n",
    "\n",
    "\n",
    "import pandas as pd\n",
    "import numpy as np\n",
    "import holidays\n",
    "\n",
    "# Create a datetime range from \"2016-01-01 00:00:00\" to \"2023-12-31 23:00:00\" by hour\n",
    "date_rng = pd.date_range(start=\"2016-01-01 00:00:00\", end=\"2023-12-31 23:00:00\", freq=\"H\")\n",
    "\n",
    "# Create a DataFrame with the datetime column and a variable column with random values\n",
    "df = pd.DataFrame({'datetime': date_rng, 'variable': np.random.randn(len(date_rng))})\n",
    "\n",
    "# Get Italian holidays\n",
    "it_holidays = holidays.Italy(years=[2016, 2017, 2018, 2019, 2020, 2021, 2022, 2023])\n",
    "\n",
    "# Add a new column for Italian holidays and weekends\n",
    "df['is_italian_holiday'] = df['datetime'].dt.date.isin(it_holidays)\n",
    "df['is_weekend'] = df['datetime'].dt.weekday.isin([5, 6])\n",
    "\n",
    "# Add time-based features BEFORE dropping the 'datetime' column\n",
    "df['hour'] = df['datetime'].dt.hour\n",
    "df['day_of_week'] = df['datetime'].dt.dayofweek\n",
    "df['month'] = df['datetime'].dt.month\n",
    "\n",
    "# Add cyclical features for hourly, daily, and yearly cycles\n",
    "df['hour_sin'] = np.sin(2 * np.pi * df['hour'] / 24)\n",
    "df['hour_cos'] = np.cos(2 * np.pi * df['hour'] / 24)\n",
    "df['day_of_week_sin'] = np.sin(2 * np.pi * df['day_of_week'] / 7)\n",
    "df['day_of_week_cos'] = np.cos(2 * np.pi * df['day_of_week'] / 7)\n",
    "df['month_sin'] = np.sin(2 * np.pi * df['month'] / 12)\n",
    "df['month_cos'] = np.cos(2 * np.pi * df['month'] / 12)\n",
    "\n",
    "# Now it is safe to drop the original 'datetime' column\n",
    "df.drop(columns=['datetime'], inplace=True)\n",
    "\n",
    "# Display the resulting DataFrame\n",
    "print(df.head())\n",
    "\n"
   ]
  },
  {
   "cell_type": "code",
   "execution_count": 22,
   "metadata": {},
   "outputs": [
    {
     "name": "stdout",
     "output_type": "stream",
     "text": [
      "DatetimeIndex(['2016-01-01 00:00:00', '2016-01-01 01:00:00',\n",
      "               '2016-01-01 02:00:00', '2016-01-01 03:00:00',\n",
      "               '2016-01-01 04:00:00', '2016-01-01 05:00:00',\n",
      "               '2016-01-01 06:00:00', '2016-01-01 07:00:00',\n",
      "               '2016-01-01 08:00:00', '2016-01-01 09:00:00',\n",
      "               ...\n",
      "               '2024-12-31 14:00:00', '2024-12-31 15:00:00',\n",
      "               '2024-12-31 16:00:00', '2024-12-31 17:00:00',\n",
      "               '2024-12-31 18:00:00', '2024-12-31 19:00:00',\n",
      "               '2024-12-31 20:00:00', '2024-12-31 21:00:00',\n",
      "               '2024-12-31 22:00:00', '2024-12-31 23:00:00'],\n",
      "              dtype='datetime64[ns]', length=78912, freq='H')\n",
      "Date: 2020-02-19 19:00:00, Day of Week (DataFrame): 2, Day of Week (Calendar): Ellipsis\n",
      "Date: 2019-10-16 19:00:00, Day of Week (DataFrame): 2, Day of Week (Calendar): Ellipsis\n",
      "Date: 2020-05-04 22:00:00, Day of Week (DataFrame): 0, Day of Week (Calendar): Ellipsis\n",
      "Date: 2022-06-14 04:00:00, Day of Week (DataFrame): 1, Day of Week (Calendar): Ellipsis\n",
      "Date: 2016-09-08 14:00:00, Day of Week (DataFrame): 3, Day of Week (Calendar): Ellipsis\n",
      "Date: 2023-01-26 07:00:00, Day of Week (DataFrame): 3, Day of Week (Calendar): Ellipsis\n",
      "Date: 2018-07-04 20:00:00, Day of Week (DataFrame): 2, Day of Week (Calendar): Ellipsis\n"
     ]
    },
    {
     "data": {
      "image/png": "[encoded data removed]",
      "text/plain": [
       "<Figure size 432x288 with 1 Axes>"
      ]
     },
     "metadata": {
      "needs_background": "light"
     },
     "output_type": "display_data"
    },
    {
     "name": "stdout",
     "output_type": "stream",
     "text": [
      "Number of NaN/Null values in 'day_of_week': 0\n",
      "   variable  is_italian_holiday  is_weekend  hour  day_of_week  month  \\\n",
      "0  1.210845                True       False     0            4      1   \n",
      "1  0.483788                True       False     1            4      1   \n",
      "2  0.172945                True       False     2            4      1   \n",
      "3 -1.885223                True       False     3            4      1   \n",
      "4  0.388371                True       False     4            4      1   \n",
      "\n",
      "   hour_sin  hour_cos  day_of_week_sin  day_of_week_cos  month_sin  month_cos  \\\n",
      "0  0.000000  1.000000        -0.433884        -0.900969        0.5   0.866025   \n",
      "1  0.258819  0.965926        -0.433884        -0.900969        0.5   0.866025   \n",
      "2  0.500000  0.866025        -0.433884        -0.900969        0.5   0.866025   \n",
      "3  0.707107  0.707107        -0.433884        -0.900969        0.5   0.866025   \n",
      "4  0.866025  0.500000        -0.433884        -0.900969        0.5   0.866025   \n",
      "\n",
      "   variable_lag_1  variable_lag_2  variable_lag_3  \n",
      "0             NaN             NaN             NaN  \n",
      "1        1.210845             NaN             NaN  \n",
      "2        0.483788        1.210845             NaN  \n",
      "3        0.172945        0.483788        1.210845  \n",
      "4       -1.885223        0.172945        0.483788  \n"
     ]
    }
   ],
   "source": [
    "import pandas as pd\n",
    "import numpy as np\n",
    "import holidays\n",
    "import seaborn as sns\n",
    "import matplotlib.pyplot as plt\n",
    "\n",
    "\n",
    "def create_cyclical_features(df, column, period):\n",
    "    df[f'{column}_sin'] = np.sin(2 * np.pi * df[column] / period)\n",
    "    df[f'{column}_cos'] = np.cos(2 * np.pi * df[column] / period)\n",
    "    return df\n",
    "\n",
    "def add_lag_features(df, column, lags):\n",
    "    for i in range(1, lags + 1):\n",
    "        df[f'{column}_lag_{i}'] = df[column].shift(i)\n",
    "    return df\n",
    "\n",
    "# Create a datetime range from \"2016-01-01 00:00:00\" to \"2023-12-31 23:00:00\" by hour\n",
    "date_rng = pd.date_range(start=\"2016-01-01 00:00:00\", end=\"2024-12-31 23:00:00\", freq=\"H\")\n",
    "print(date_rng)\n",
    "# Create a DataFrame with the datetime column and a variable column with random values\n",
    "df = pd.DataFrame({'datetime': date_rng, 'variable': np.random.randn(len(date_rng))})\n",
    "\n",
    "# Get Italian holidays for years in date_rng\n",
    "years = np.arange(date_rng.year.min(), date_rng.year.max() + 1)\n",
    "it_holidays = holidays.Italy(years=np.arange(2016, 2025))\n",
    "\n",
    "# Add a new column for Italian holidays and weekends\n",
    "df['is_italian_holiday'] = df['datetime'].dt.date.isin(it_holidays)\n",
    "df['is_weekend'] = df['datetime'].dt.weekday.isin([5, 6])\n",
    "\n",
    "# Add time-based features BEFORE dropping the 'datetime' column\n",
    "df['hour'] = df['datetime'].dt.hour\n",
    "df['day_of_week'] = df['datetime'].dt.dayofweek\n",
    "df['month'] = df['datetime'].dt.month\n",
    "\n",
    "# Add cyclical features\n",
    "df = create_cyclical_features(df, 'hour', 24)\n",
    "df = create_cyclical_features(df, 'day_of_week', 7)\n",
    "df = create_cyclical_features(df, 'month', 12)\n",
    "\n",
    "# Add lag features\n",
    "df = add_lag_features(df, 'variable', lags=3)\n",
    "# Сохраняем день недели и время перед удалением 'datetime'\n",
    "sample_dates = df[['datetime', 'day_of_week']].sample(7, random_state=1)\n",
    "\n",
    "\n",
    "# Now it is safe to drop the original 'datetime' column\n",
    "df.drop(columns=['datetime'], inplace=True)\n",
    "\n",
    "# 1. Проверка соответствия календарю\n",
    "for _, row in sample_dates.iterrows():\n",
    "    date = row['datetime']\n",
    "    print(f\"Date: {date}, Day of Week (DataFrame): {row['day_of_week']}, Day of Week (Calendar): {...}\")  # Проверьте день недели в календаре и вставьте его вместо \"...\"\n",
    "\n",
    "# 2. Визуализация\n",
    "sns.countplot(x='day_of_week', data=df)\n",
    "plt.title('Distribution of Day of Week')\n",
    "plt.show()\n",
    "\n",
    "# 3. Проверка на NaN/Null\n",
    "print(f\"Number of NaN/Null values in 'day_of_week': {df['day_of_week'].isna().sum()}\")\n",
    "# Display the resulting DataFrame\n",
    "print(df.head())"
   ]
  },
  {
   "cell_type": "code",
   "execution_count": 21,
   "metadata": {},
   "outputs": [
    {
     "data": {
      "image/png": "[encoded data removed]",
      "text/plain": [
       "<Figure size 432x432 with 1 Axes>"
      ]
     },
     "metadata": {
      "needs_background": "light"
     },
     "output_type": "display_data"
    }
   ],
   "source": [
    "# Циклические признаки. Визуализация\n",
    "\n",
    "import matplotlib.pyplot as plt\n",
    "import numpy as np\n",
    "\n",
    "# Генерируем 24 точки, представляющие каждый час в сутках\n",
    "hours = np.linspace(0, 23, 24)\n",
    "\n",
    "# Преобразуем часы в радианы, чтобы использовать синус и косинус\n",
    "radians = 2 * np.pi * hours / 24\n",
    "\n",
    "# Применяем синус и косинус\n",
    "sin_time = np.sin(radians)\n",
    "cos_time = np.cos(radians)\n",
    "\n",
    "# Создаем scatter plot\n",
    "plt.figure(figsize=(6,6))\n",
    "plt.scatter(sin_time, cos_time)\n",
    "plt.xlabel('sin(time)')\n",
    "plt.ylabel('cos(time)')\n",
    "plt.title('Cyclical Encoding of Time')\n",
    "plt.grid(True)\n",
    "plt.axhline(0, color='black',linewidth=0.5)\n",
    "plt.axvline(0, color='black',linewidth=0.5)\n",
    "plt.xlim(-1.1, 1.1)\n",
    "plt.ylim(-1.1, 1.1)\n",
    "\n",
    "# Наносим метки часов\n",
    "for i, hour in enumerate(hours.astype(int)):\n",
    "    plt.annotate(str(hour), (sin_time[i], cos_time[i]))\n",
    "\n",
    "plt.show()\n"
   ]
  }
 ],
 "metadata": {
  "kernelspec": {
   "display_name": "base",
   "language": "python",
   "name": "python3"
  },
  "language_info": {
   "codemirror_mode": {
    "name": "ipython",
    "version": 3
   },
   "file_extension": ".py",
   "mimetype": "text/x-python",
   "name": "python",
   "nbconvert_exporter": "python",
   "pygments_lexer": "ipython3",
   "version": "3.9.7"
  },
  "orig_nbformat": 4
 },
 "nbformat": 4,
 "nbformat_minor": 2
}
