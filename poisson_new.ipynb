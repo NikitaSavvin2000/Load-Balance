{
  "cells": [
    {
      "cell_type": "markdown",
      "metadata": {
        "id": "view-in-github",
        "colab_type": "text"
      },
      "source": [
        "<a href=\"https://colab.research.google.com/github/NikitaSavvin2000/Load-Balance/blob/NSavvin_develop/poisson_new.ipynb\" target=\"_parent\"><img src=\"https://colab.research.google.com/assets/colab-badge.svg\" alt=\"Open In Colab\"/></a>"
      ]
    },
    {
      "cell_type": "code",
      "source": [
        "import pandas as pd\n",
        "import numpy as np\n",
        "import random\n",
        "format_string = '%Y-%m-%d %H:%M:%S%z'\n",
        "from datetime import datetime\n",
        "\n",
        "def poisson_value(date_with_nan, df, time_window_minutes=5):\n",
        "    date_with_nan = datetime.strptime(date_with_nan, format_string)\n",
        "    # Создайте маску, чтобы выбрать все строки, которые соответствуют условиям месяца, дня, часа и минуты.\n",
        "    mask = ((df['time'].dt.month == date_with_nan.month) &\n",
        "            (df['time'].dt.day == date_with_nan.day) &\n",
        "            (df['time'].dt.hour == date_with_nan.hour) &\n",
        "            (df['time'].dt.minute >= date_with_nan.minute - time_window_minutes) &\n",
        "            (df['time'].dt.minute <= date_with_nan.minute + time_window_minutes))\n",
        "    # Отфильтруйте строки, чтобы исключить NaN значения в столбце 'P_l'.\n",
        "    non_nan_values = df.loc[mask, 'P_l'].dropna()\n",
        "    matching_indices = non_nan_values.index.tolist()\n",
        "    # Проверьте, что есть хотя бы одно значение без NaN.\n",
        "    if non_nan_values.empty:\n",
        "        return []  # Вернуть пустой список, если нет подходящих значений.\n",
        "\n",
        "    # Вычислите среднее значение для отфильтрованных значений.\n",
        "    mean_value = non_nan_values.mean()\n",
        "\n",
        "    # Генерируйте случайные значения Пуассона на основе среднего значения.\n",
        "    count_index = 100\n",
        "    s = np.random.poisson(mean_value, count_index).tolist()\n",
        "    index = random.randint(0, 99)\n",
        "    poisson_value = s[index]\n",
        "    return poisson_value\n",
        "\n",
        "\n",
        "def calculate_mape(df_orig, df_test, drop_index):\n",
        "    df_test.reset_index(inplace=True)\n",
        "    df_orig.reset_index(inplace=True)\n",
        "    df_init = df_orig[df_orig['time'].isin(drop_index)]\n",
        "    df_mape = df_test[df_test['time'].isin(drop_index)]\n",
        "    mape = (abs((df_init['P_l'] - df_mape['P_l']) / df_mape['P_l']) * 100).mean()\n",
        "    return mape\n"
      ],
      "metadata": {
        "id": "I7J04uczCgMs"
      },
      "execution_count": 29,
      "outputs": []
    },
    {
      "cell_type": "code",
      "source": [
        "df=pd.read_csv(r'/content/filled_P_l.csv')"
      ],
      "metadata": {
        "id": "j7E_2mfxIjXo"
      },
      "execution_count": 30,
      "outputs": []
    },
    {
      "cell_type": "code",
      "source": [
        "\n",
        "percentage_of_missing_values = 0.01  # например, 10%\n",
        "total_values = len(df)\n",
        "num_values_to_remove = int(total_values * percentage_of_missing_values / 100)\n",
        "drop_index = random.sample(df.index.tolist(), num_values_to_remove)\n",
        "df_test = df.copy()\n",
        "df_test.loc[drop_index, 'P_l'] = np.nan\n",
        "date_with_nan_list = df_test.loc[df_test['P_l'].isna(), 'time'].tolist()\n"
      ],
      "metadata": {
        "id": "YJufOGWdCrvj"
      },
      "execution_count": 33,
      "outputs": []
    },
    {
      "cell_type": "code",
      "source": [
        "print(len(date_with_nan_list))"
      ],
      "metadata": {
        "id": "JKntscgwIDiL",
        "outputId": "cf4e3c99-79a1-4cbf-d25d-c621f2bd91d7",
        "colab": {
          "base_uri": "https://localhost:8080/"
        }
      },
      "execution_count": 34,
      "outputs": [
        {
          "output_type": "stream",
          "name": "stdout",
          "text": [
            "141251\n"
          ]
        }
      ]
    },
    {
      "cell_type": "code",
      "source": [
        "df_test['time'] = pd.to_datetime(df['time'], format=format_string)"
      ],
      "metadata": {
        "id": "mGHbsonYK5VZ"
      },
      "execution_count": 35,
      "outputs": []
    },
    {
      "cell_type": "code",
      "source": [
        "from tqdm import tqdm\n",
        "\n",
        "\n",
        "for date_with_nan in tqdm(date_with_nan_list):\n",
        "  random_poisson_value = poisson_value(date_with_nan, df_test, time_window_minutes=5)\n",
        "  df_test.loc[df_test['time'] == date_with_nan, 'P_l'] = random_poisson_value\n"
      ],
      "metadata": {
        "id": "1-G0RAaDELLv",
        "outputId": "5460ea6a-2b66-4dcc-b2f3-822fb48472c6",
        "colab": {
          "base_uri": "https://localhost:8080/"
        }
      },
      "execution_count": null,
      "outputs": [
        {
          "output_type": "stream",
          "name": "stderr",
          "text": [
            "  2%|▏         | 3016/141251 [20:47<18:33:33,  2.07it/s]"
          ]
        }
      ]
    },
    {
      "cell_type": "code",
      "source": [
        "mape = calculate_mape(df, df_test, drop_index)\n",
        "print(mape)"
      ],
      "metadata": {
        "id": "XYxT9BttFptt"
      },
      "execution_count": null,
      "outputs": []
    },
    {
      "cell_type": "markdown",
      "source": [],
      "metadata": {
        "id": "N_GIWXDXFuQu"
      }
    }
  ],
  "metadata": {
    "colab": {
      "name": "Добро пожаловать в Colaboratory!",
      "provenance": [],
      "include_colab_link": true
    },
    "kernelspec": {
      "display_name": "Python 3",
      "name": "python3"
    }
  },
  "nbformat": 4,
  "nbformat_minor": 0
}