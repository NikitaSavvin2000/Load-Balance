{
  "cells": [
    {
      "cell_type": "markdown",
      "metadata": {
        "id": "view-in-github",
        "colab_type": "text"
      },
      "source": [
        "<a href=\"https://colab.research.google.com/github/NikitaSavvin2000/Load-Balance/blob/NSavvin_develop/poisoon_new.ipynb\" target=\"_parent\"><img src=\"https://colab.research.google.com/assets/colab-badge.svg\" alt=\"Open In Colab\"/></a>"
      ]
    },
    {
      "cell_type": "code",
      "source": [
        "import pandas as pd\n",
        "import numpy as np\n",
        "import random\n",
        "format_string = '%Y-%m-%d %H:%M:%S%z'\n",
        "from datetime import datetime\n",
        "from datetime import datetime, timedelta\n",
        "\n",
        "def poisson_value(date_with_nan, df, time_window_minutes=5):\n",
        "    date_with_nan = datetime.strptime(date_with_nan, format_string)\n",
        "    # Создайте маску, чтобы выбрать все строки, которые соответствуют условиям месяца, дня, часа и минуты.\n",
        "    mask = ((df['time'] >= date_with_nan - timedelta(minutes=time_window_minutes)) & \\\n",
        "           (df['time'] <= date_with_nan + timedelta(minutes=time_window_minutes)))\n",
        "    # Отфильтруйте строки, чтобы исключить NaN значения в столбце 'P_l'.\n",
        "    non_nan_values = df.loc[mask, 'P_l'].dropna()\n",
        "    matching_indices = non_nan_values.index.tolist()\n",
        "    # Проверьте, что есть хотя бы одно значение без NaN.\n",
        "    if non_nan_values.empty:\n",
        "        return []  # Вернуть пустой список, если нет подходящих значений.\n",
        "\n",
        "    # Вычислите среднее значение для отфильтрованных значений.\n",
        "    mean_value = non_nan_values.mean()\n",
        "\n",
        "    # Генерируйте случайные значения Пуассона на основе среднего значения.\n",
        "    count_index = 100\n",
        "    s = np.random.poisson(mean_value, count_index).tolist()\n",
        "    index = random.randint(0, 99)\n",
        "    poisson_value = s[index]\n",
        "    return poisson_value\n",
        "\n",
        "\n",
        "def calculate_mape(df_orig, df_test, drop_index):\n",
        "    df_test.reset_index(inplace=True)\n",
        "    df_orig.reset_index(inplace=True)\n",
        "    df_init = df_orig[df_orig.isin(drop_index)]\n",
        "    df_mape = df_test[df_test.isin(drop_index)]\n",
        "    mape = (abs((df_init['P_l'] - df_mape['P_l']) / df_mape['P_l']) * 100).mean()\n",
        "    return mape\n"
      ],
      "metadata": {
        "id": "I7J04uczCgMs"
      },
      "execution_count": 100,
      "outputs": []
    },
    {
      "cell_type": "code",
      "source": [
        "df=pd.read_csv(r'/content/filled_P_l.csv')"
      ],
      "metadata": {
        "id": "j7E_2mfxIjXo"
      },
      "execution_count": 101,
      "outputs": []
    },
    {
      "cell_type": "code",
      "source": [
        "\n",
        "percentage_of_missing_values = 10  # например, 10%\n",
        "total_values = len(df)\n",
        "num_values_to_remove = int(total_values * percentage_of_missing_values / 100)\n",
        "drop_index = random.sample(df.index.tolist(), num_values_to_remove)\n",
        "df_test = df.copy()\n",
        "df_test.loc[drop_index, 'P_l'] = np.nan\n",
        "date_with_nan_list = df_test.loc[df_test['P_l'].isna(), 'time'].tolist()\n"
      ],
      "metadata": {
        "id": "YJufOGWdCrvj"
      },
      "execution_count": 102,
      "outputs": []
    },
    {
      "cell_type": "code",
      "source": [
        "df_test['time'] = pd.to_datetime(df['time'], format=format_string)"
      ],
      "metadata": {
        "id": "mGHbsonYK5VZ"
      },
      "execution_count": 103,
      "outputs": []
    },
    {
      "cell_type": "code",
      "source": [
        "from tqdm import tqdm\n",
        "\n",
        "\n",
        "for date_with_nan in tqdm(date_with_nan_list):\n",
        "  random_poisson_value = poisson_value(date_with_nan, df_test, time_window_minutes=5)\n",
        "  df_test.loc[df_test['time'] == date_with_nan, 'P_l'] = random_poisson_value\n"
      ],
      "metadata": {
        "colab": {
          "base_uri": "https://localhost:8080/"
        },
        "id": "1-G0RAaDELLv",
        "outputId": "3916b483-1e13-46fd-a1af-e2790fcb60ea"
      },
      "execution_count": 104,
      "outputs": [
        {
          "output_type": "stream",
          "name": "stderr",
          "text": [
            "100%|██████████| 141247/141247 [20:37<00:00, 114.15it/s]\n"
          ]
        }
      ]
    },
    {
      "cell_type": "code",
      "source": [
        "print(drop_index)\n",
        "print(len(df_test))\n",
        "print(len(df_test.dropna()))"
      ],
      "metadata": {
        "id": "Ila44o0zMzKG",
        "outputId": "bdc0fad4-6dda-414d-da29-6a2b2aaf6a0b",
        "colab": {
          "base_uri": "https://localhost:8080/"
        }
      },
      "execution_count": 105,
      "outputs": [
        {
          "output_type": "stream",
          "name": "stdout",
          "text": [
            "[318873, 253395, 18612, 216160, 507602, 661393, 582565, 54353, 435330, 339756, 618015, 630237, 386153, 269202, 616789, 312969, 575874, 81288, 552439, 325316, 500904, 351192, 655494, 673147, 471797, 66225, 610825, 416197, 237032, 625320, 591432, 546070, 18140, 585109, 703370, 385761, 108659, 518177, 628113, 117112, 470027, 289400, 323363, 536209, 399841, 109269, 113581, 663247, 396989, 290548, 320684, 751370, 416566, 233102, 635605, 432077, 576361, 730262, 115020, 60708, 294533, 135513, 315549, 681059, 657037, 656993, 637635, 112374, 101801, 258991, 485504, 471183, 279904, 672512, 587455, 686506]\n",
            "762891\n",
            "762891\n"
          ]
        }
      ]
    },
    {
      "cell_type": "code",
      "source": [
        "def calculate_mape(df_orig, df_test, drop_index):\n",
        "    df_init = df_orig.iloc[drop_index]\n",
        "    df_mape = df_test.iloc[drop_index]\n",
        "    mape = (abs((df_init['P_l'] - df_mape['P_l']) / df_mape['P_l']) * 100).mean()\n",
        "    return mape"
      ],
      "metadata": {
        "id": "xS5xKIutGnHC"
      },
      "execution_count": 106,
      "outputs": []
    },
    {
      "cell_type": "code",
      "source": [
        "mape = calculate_mape(df, df_test, drop_index)\n",
        "print(mape)"
      ],
      "metadata": {
        "id": "XYxT9BttFptt",
        "colab": {
          "base_uri": "https://localhost:8080/"
        },
        "outputId": "d2067c44-706c-4582-8c05-aeae25054899"
      },
      "execution_count": 107,
      "outputs": [
        {
          "output_type": "stream",
          "name": "stdout",
          "text": [
            "2.9435336422619427\n"
          ]
        }
      ]
    },
    {
      "cell_type": "markdown",
      "source": [],
      "metadata": {
        "id": "N_GIWXDXFuQu"
      }
    }
  ],
  "metadata": {
    "colab": {
      "name": "Добро пожаловать в Colaboratory!",
      "provenance": [],
      "include_colab_link": true
    },
    "kernelspec": {
      "display_name": "Python 3",
      "name": "python3"
    }
  },
  "nbformat": 4,
  "nbformat_minor": 0
}