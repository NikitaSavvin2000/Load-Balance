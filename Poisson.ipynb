{
 "cells": [
  {
   "cell_type": "code",
   "execution_count": 5,
   "metadata": {
    "ExecuteTime": {
     "end_time": "2023-10-10T16:15:59.406358Z",
     "start_time": "2023-10-10T16:15:59.098878Z"
    }
   },
   "outputs": [],
   "source": [
    "\n",
    "import pandas as pd\n",
    "import numpy as np\n",
    "\n",
    "import matplotlib.pyplot as plt\n",
    "\n",
    "df_work_data = pd.read_csv('result/filled_P_l.csv')"
   ]
  },
  {
   "cell_type": "code",
   "execution_count": 97,
   "metadata": {},
   "outputs": [],
   "source": [
    "df_work_data['initial_data_T_F'] = df_work_data['P_l'].notna()"
   ]
  },
  {
   "cell_type": "code",
   "execution_count": 112,
   "metadata": {},
   "outputs": [],
   "source": [
    "import pandas as pd\n",
    "import numpy as np\n",
    "import random\n",
    "\n",
    "\n",
    "\n",
    "def poisson_value(date_with_nan, df, time_window_minutes=5):\n",
    "    # Найти индекс строки с заданной датой\n",
    "    mask = df['time'] == date_with_nan\n",
    "    if mask.any():\n",
    "        index_with_nan = df.index[mask][0]\n",
    "    else:\n",
    "        return []  # Вернуть пустой список, если дата не найдена\n",
    "\n",
    "    mask = ((df['time'].dt.month == date_with_nan.month) &\n",
    "            (df['time'].dt.day == date_with_nan.day) &\n",
    "            (df['time'].dt.hour == date_with_nan.hour) &\n",
    "            (df['time'].dt.minute >= date_with_nan.minute - time_window_minutes) &\n",
    "            (df['time'].dt.minute <= date_with_nan.minute + time_window_minutes) &\n",
    "            (~df['P_l'].isna()))\n",
    "\n",
    "    existing_values = df.loc[mask, 'P_l'].tolist()\n",
    "    mean_value = np.mean(existing_values)\n",
    "    count_index = 1000\n",
    "    s = np.random.poisson(mean_value, count_index).tolist()\n",
    "    index = random.randint(0, 999)\n",
    "    poisson_value = s[index]\n",
    "    return poisson_value\n",
    "\n",
    "\n",
    "\n",
    "def poisson_value_2(date_with_nan, df, time_window_minutes=5):\n",
    "    # Создайте маску, чтобы выбрать все строки, которые соответствуют условиям месяца, дня, часа и минуты.\n",
    "    mask = ((df['time'].dt.month == date_with_nan.month) &\n",
    "            (df['time'].dt.day == date_with_nan.day) &\n",
    "            (df['time'].dt.hour == date_with_nan.hour) &\n",
    "            (df['time'].dt.minute >= date_with_nan.minute - time_window_minutes) &\n",
    "            (df['time'].dt.minute <= date_with_nan.minute + time_window_minutes))\n",
    "    print(mask)\n",
    "    # Отфильтруйте строки, чтобы исключить NaN значения в столбце 'P_l'.\n",
    "    non_nan_values = df.loc[mask, 'P_l'].dropna()\n",
    "    matching_indices = non_nan_values.index.tolist()\n",
    "    # Проверьте, что есть хотя бы одно значение без NaN.\n",
    "    if non_nan_values.empty:\n",
    "        return []  # Вернуть пустой список, если нет подходящих значений.\n",
    "\n",
    "    # Вычислите среднее значение для отфильтрованных значений.\n",
    "    mean_value = non_nan_values.mean()\n",
    "\n",
    "    # Генерируйте случайные значения Пуассона на основе среднего значения.\n",
    "    count_index = 100\n",
    "    s = np.random.poisson(mean_value, count_index).tolist()\n",
    "    index = random.randint(0, 99)\n",
    "    poisson_value = s[index]\n",
    "    return poisson_value, matching_indices\n",
    "\n",
    "\n",
    "\n",
    "def normal_value(date_with_nan, dataframe, time_window_minutes=50):\n",
    "    # Найти индекс строки с заданной датой\n",
    "    mask = df['time'] == date_with_nan\n",
    "    if mask.any():\n",
    "        index_with_nan = dataframe.index[mask][0]\n",
    "    else:\n",
    "        return []  # Вернуть пустой список, если дата не найдена\n",
    "\n",
    "    # Найти диапазон времени для поиска существующих значений\n",
    "    time_range = pd.to_timedelta(time_window_minutes, unit='m')\n",
    "    start_time = dataframe.loc[index_with_nan, 'time'] - time_range\n",
    "    end_time = dataframe.loc[index_with_nan, 'time'] + time_range\n",
    "\n",
    "    # Найти существующие значения в заданном диапазоне времени\n",
    "    mask = (dataframe['time'] >= start_time) & (dataframe['time'] <= end_time) & (~dataframe['P_l'].isna())\n",
    "    existing_values = dataframe.loc[mask, 'P_l'].tolist()\n",
    "\n",
    "    # Рассчитать стандартное отклонение на основе существующих значений\n",
    "    std_deviation = np.std(existing_values)\n",
    "\n",
    "    # Генерировать случайное значение с нормальным распределением\n",
    "    mean_value = np.mean(existing_values)\n",
    "    random_value = np.random.normal(mean_value, std_deviation)\n",
    "\n",
    "    return random_value\n",
    "\n"
   ]
  },
  {
   "cell_type": "code",
   "execution_count": 99,
   "metadata": {},
   "outputs": [],
   "source": [
    "df_poisson, df_normal = df_work_data, df_work_data\n"
   ]
  },
  {
   "cell_type": "code",
   "execution_count": 100,
   "metadata": {},
   "outputs": [],
   "source": [
    "df_poisson['time'] = pd.to_datetime(df_poisson['time'])\n"
   ]
  },
  {
   "cell_type": "code",
   "execution_count": 101,
   "metadata": {},
   "outputs": [],
   "source": [
    "df_poisson['P_l_poisson'] = np.nan"
   ]
  },
  {
   "cell_type": "code",
   "execution_count": 110,
   "metadata": {},
   "outputs": [
    {
     "name": "stdout",
     "output_type": "stream",
     "text": [
      "2023-09-11 15:10:00+00:00\n"
     ]
    }
   ],
   "source": [
    "from datetime import datetime\n",
    "\n",
    "# Your date and time string, including timezone information\n",
    "date_with_timezone = '2023-09-11 15:10:00+00:00'\n",
    "\n",
    "# Define the format of the string so that datetime can correctly parse the date and time.\n",
    "# The format should include timezone information (UTC offset),\n",
    "# which is expressed as '+00:00' at the end of the string.\n",
    "format_string = '%Y-%m-%d %H:%M:%S%z'\n",
    "\n",
    "# Now, parse the string into a datetime object\n",
    "dt = datetime.strptime(date_with_timezone, format_string)\n",
    "\n",
    "# The dt object now contains the date and time in datetime format,\n",
    "# including timezone information\n",
    "print(dt)\n"
   ]
  },
  {
   "cell_type": "code",
   "execution_count": 116,
   "metadata": {},
   "outputs": [
    {
     "name": "stdout",
     "output_type": "stream",
     "text": [
      "0         False\n",
      "1         False\n",
      "2         False\n",
      "3         False\n",
      "4         False\n",
      "          ...  \n",
      "762888    False\n",
      "762889    False\n",
      "762890    False\n",
      "762891     True\n",
      "762892     True\n",
      "Name: time, Length: 762893, dtype: bool\n",
      "                            time         P_l  initial_data_T_F  P_l_poisson\n",
      "26763  2016-09-11 15:05:00+00:00  21682.6700              True          NaN\n",
      "26764  2016-09-11 15:10:00+00:00  20857.0400              True          NaN\n",
      "26765  2016-09-11 15:15:00+00:00  19939.9600              True          NaN\n",
      "131883 2017-09-11 15:05:00+00:00  20421.4100              True          NaN\n",
      "131884 2017-09-11 15:10:00+00:00  21514.7000              True          NaN\n",
      "131885 2017-09-11 15:15:00+00:00  20875.8600              True          NaN\n",
      "237003 2018-09-11 15:05:00+00:00  22556.8326              True          NaN\n",
      "237004 2018-09-11 15:10:00+00:00  24631.6210              True          NaN\n",
      "237005 2018-09-11 15:15:00+00:00  24286.0020              True          NaN\n",
      "342123 2019-09-11 15:05:00+00:00  23319.5300              True          NaN\n",
      "342124 2019-09-11 15:10:00+00:00  24836.5610              True          NaN\n",
      "342125 2019-09-11 15:15:00+00:00  23532.1800              True          NaN\n",
      "657771 2022-09-11 15:05:00+00:00  23516.7700              True          NaN\n",
      "657772 2022-09-11 15:10:00+00:00  24597.4900              True          NaN\n",
      "657773 2022-09-11 15:15:00+00:00  23652.2400              True          NaN\n",
      "                            time        P_l  initial_data_T_F  P_l_poisson\n",
      "0      2016-06-10 16:50:00+00:00  26441.630              True          NaN\n",
      "1      2016-06-10 16:55:00+00:00  26039.196              True          NaN\n",
      "2      2016-06-10 17:00:00+00:00  21790.632              True          NaN\n",
      "3      2016-06-10 17:05:00+00:00  22824.290              True          NaN\n",
      "4      2016-06-10 17:10:00+00:00  23408.187              True          NaN\n",
      "...                          ...        ...               ...          ...\n",
      "762888 2023-09-11 14:50:00+00:00  31766.700              True          NaN\n",
      "762889 2023-09-11 14:55:00+00:00  31646.600              True          NaN\n",
      "762890 2023-09-11 15:00:00+00:00  30781.170              True          NaN\n",
      "762891 2023-09-11 15:05:00+00:00        NaN             False      23222.0\n",
      "762892 2023-09-11 15:10:00+00:00        NaN             False      22492.0\n",
      "\n",
      "[762893 rows x 4 columns]\n"
     ]
    }
   ],
   "source": [
    "date_with_nan = dt\n",
    "\n",
    "poisson_value, matching_indices = poisson_value_2(date_with_nan, df_poisson, time_window_minutes=5)\n",
    "\n",
    "print(df_poisson.iloc[matching_indices])\n",
    "print(df_poisson)"
   ]
  },
  {
   "cell_type": "code",
   "execution_count": 117,
   "metadata": {},
   "outputs": [],
   "source": [
    "file_path = 'result/poisson.csv'\n",
    "\n",
    "df_poisson.to_csv(file_path, index=False)"
   ]
  },
  {
   "cell_type": "code",
   "execution_count": 102,
   "metadata": {},
   "outputs": [
    {
     "name": "stderr",
     "output_type": "stream",
     "text": [
      "100%|█████████████████████████████████| 762893/762893 [2:07:11<00:00, 99.97it/s]\n"
     ]
    }
   ],
   "source": [
    "from tqdm import tqdm\n",
    "\n",
    "for index, row in tqdm(df_poisson.iterrows(), total=len(df_poisson)):\n",
    "    if pd.isna(row['P_l']):\n",
    "        date_with_nan = row['time']\n",
    "        random_poisson_value = poisson_value_2(date_with_nan, df_poisson)\n",
    "        df_poisson.at[index, 'P_l_poisson'] = random_poisson_value\n",
    "    else:\n",
    "        df_poisson.at[index, 'P_l_poisson'] = np.nan\n"
   ]
  },
  {
   "cell_type": "code",
   "execution_count": null,
   "metadata": {},
   "outputs": [],
   "source": []
  },
  {
   "cell_type": "code",
   "execution_count": 103,
   "metadata": {},
   "outputs": [
    {
     "name": "stdout",
     "output_type": "stream",
     "text": [
      "                            time        P_l  initial_data_T_F  P_l_poisson\n",
      "0      2016-06-10 16:50:00+00:00  26441.630              True          NaN\n",
      "1      2016-06-10 16:55:00+00:00  26039.196              True          NaN\n",
      "2      2016-06-10 17:00:00+00:00  21790.632              True          NaN\n",
      "3      2016-06-10 17:05:00+00:00  22824.290              True          NaN\n",
      "4      2016-06-10 17:10:00+00:00  23408.187              True          NaN\n",
      "...                          ...        ...               ...          ...\n",
      "762888 2023-09-11 14:50:00+00:00  31766.700              True          NaN\n",
      "762889 2023-09-11 14:55:00+00:00  31646.600              True          NaN\n",
      "762890 2023-09-11 15:00:00+00:00  30781.170              True          NaN\n",
      "762891 2023-09-11 15:05:00+00:00        NaN             False      23222.0\n",
      "762892 2023-09-11 15:10:00+00:00        NaN             False      22492.0\n",
      "\n",
      "[762893 rows x 4 columns]\n"
     ]
    }
   ],
   "source": [
    "print(df_poisson)"
   ]
  },
  {
   "cell_type": "code",
   "execution_count": 6,
   "metadata": {
    "ExecuteTime": {
     "end_time": "2023-10-10T16:16:09.914174Z",
     "start_time": "2023-10-10T16:16:09.611772Z"
    }
   },
   "outputs": [],
   "source": [
    "df_poisson = pd.read_csv('result/poisson.csv')"
   ]
  },
  {
   "cell_type": "code",
   "execution_count": 8,
   "metadata": {
    "ExecuteTime": {
     "end_time": "2023-10-10T17:34:22.414476Z",
     "start_time": "2023-10-10T16:29:47.400072Z"
    }
   },
   "outputs": [
    {
     "data": {
      "text/plain": "<Figure size 1000x600 with 1 Axes>",
      "image/png": "[encoded data removed]"
     },
     "metadata": {},
     "output_type": "display_data"
    }
   ],
   "source": [
    "import matplotlib.pyplot as plt\n",
    "\n",
    "\n",
    "plt.figure(figsize=(10, 6))\n",
    "plt.plot(df_poisson['time'], df_poisson['P_l'],  color='blue')\n",
    "plt.plot(df_poisson['time'], df_poisson['P_l_poisson'], color='green')\n",
    "\n",
    "# Настройте оси и добавьте легенду\n",
    "plt.xlabel('Time')\n",
    "plt.ylabel('P_l')\n",
    "\n",
    "\n",
    "# Отобразите график\n",
    "plt.show()"
   ]
  },
  {
   "cell_type": "code",
   "execution_count": null,
   "outputs": [],
   "source": [],
   "metadata": {
    "collapsed": false
   }
  }
 ],
 "metadata": {
  "kernelspec": {
   "display_name": "Python 3 (ipykernel)",
   "language": "python",
   "name": "python3"
  },
  "language_info": {
   "codemirror_mode": {
    "name": "ipython",
    "version": 3
   },
   "file_extension": ".py",
   "mimetype": "text/x-python",
   "name": "python",
   "nbconvert_exporter": "python",
   "pygments_lexer": "ipython3",
   "version": "3.11.4"
  }
 },
 "nbformat": 4,
 "nbformat_minor": 2
}
